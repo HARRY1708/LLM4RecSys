{
 "cells": [
  {
   "cell_type": "code",
   "execution_count": 3,
   "metadata": {},
   "outputs": [
    {
     "data": {
      "application/vnd.jupyter.widget-view+json": {
       "model_id": "e0990ff189a843bea63c50961adbb9bb",
       "version_major": 2,
       "version_minor": 0
      },
      "text/plain": [
       "Downloading data:   0%|          | 0.00/327M [00:00<?, ?B/s]"
      ]
     },
     "metadata": {},
     "output_type": "display_data"
    },
    {
     "data": {
      "application/vnd.jupyter.widget-view+json": {
       "model_id": "0fc87baa73ac4b189d0e6a4de69f7131",
       "version_major": 2,
       "version_minor": 0
      },
      "text/plain": [
       "Generating full split: 0 examples [00:00, ? examples/s]"
      ]
     },
     "metadata": {},
     "output_type": "display_data"
    },
    {
     "name": "stdout",
     "output_type": "stream",
     "text": [
      "{'rating': 5.0, 'title': 'Such a lovely scent but not overpowering.', 'text': \"This spray is really nice. It smells really good, goes on really fine, and does the trick. I will say it feels like you need a lot of it though to get the texture I want. I have a lot of hair, medium thickness. I am comparing to other brands with yucky chemicals so I'm gonna stick with this. Try it!\", 'images': [], 'asin': 'B00YQ6X8EO', 'parent_asin': 'B00YQ6X8EO', 'user_id': 'AGKHLEW2SOWHNMFQIJGBECAF7INQ', 'timestamp': 1588687728923, 'helpful_vote': 0, 'verified_purchase': True}\n"
     ]
    }
   ],
   "source": [
    "from datasets import load_dataset\n",
    "\n",
    "dataset = load_dataset(\"McAuley-Lab/Amazon-Reviews-2023\", \"raw_review_All_Beauty\", trust_remote_code=True)\n",
    "print(dataset[\"full\"][0])"
   ]
  },
  {
   "cell_type": "code",
   "execution_count": 4,
   "metadata": {},
   "outputs": [
    {
     "data": {
      "application/vnd.jupyter.widget-view+json": {
       "model_id": "56a82b739414405ea50c8bfc3c533e1e",
       "version_major": 2,
       "version_minor": 0
      },
      "text/plain": [
       "Downloading data:   0%|          | 0.00/213M [00:00<?, ?B/s]"
      ]
     },
     "metadata": {},
     "output_type": "display_data"
    },
    {
     "data": {
      "application/vnd.jupyter.widget-view+json": {
       "model_id": "c7e644695e654986963d89c09a782322",
       "version_major": 2,
       "version_minor": 0
      },
      "text/plain": [
       "Generating full split: 0 examples [00:00, ? examples/s]"
      ]
     },
     "metadata": {},
     "output_type": "display_data"
    },
    {
     "name": "stdout",
     "output_type": "stream",
     "text": [
      "{'main_category': 'All Beauty', 'title': 'Howard LC0008 Leather Conditioner, 8-Ounce (4-Pack)', 'average_rating': 4.8, 'rating_number': 10, 'features': [], 'description': [], 'price': 'None', 'images': {'hi_res': [None, 'https://m.media-amazon.com/images/I/71i77AuI9xL._SL1500_.jpg'], 'large': ['https://m.media-amazon.com/images/I/41qfjSfqNyL.jpg', 'https://m.media-amazon.com/images/I/41w2yznfuZL.jpg'], 'thumb': ['https://m.media-amazon.com/images/I/41qfjSfqNyL._SS40_.jpg', 'https://m.media-amazon.com/images/I/41w2yznfuZL._SS40_.jpg'], 'variant': ['MAIN', 'PT01']}, 'videos': {'title': [], 'url': [], 'user_id': []}, 'store': 'Howard Products', 'categories': [], 'details': '{\"Package Dimensions\": \"7.1 x 5.5 x 3 inches; 2.38 Pounds\", \"UPC\": \"617390882781\"}', 'parent_asin': 'B01CUPMQZE', 'bought_together': None, 'subtitle': None, 'author': None}\n"
     ]
    }
   ],
   "source": [
    "dataset = load_dataset(\"McAuley-Lab/Amazon-Reviews-2023\", \"raw_meta_All_Beauty\", split=\"full\", trust_remote_code=True)\n",
    "print(dataset[0])"
   ]
  },
  {
   "cell_type": "code",
   "execution_count": 5,
   "metadata": {},
   "outputs": [
    {
     "data": {
      "application/vnd.jupyter.widget-view+json": {
       "model_id": "2e7d2cb137254bda94cb33ffe0278c4f",
       "version_major": 2,
       "version_minor": 0
      },
      "text/plain": [
       "Downloading data:   0%|          | 0.00/35.9M [00:00<?, ?B/s]"
      ]
     },
     "metadata": {},
     "output_type": "display_data"
    },
    {
     "data": {
      "application/vnd.jupyter.widget-view+json": {
       "model_id": "be4968cc0ff34d77a2a0db5f7eae8ab2",
       "version_major": 2,
       "version_minor": 0
      },
      "text/plain": [
       "Downloading data:   0%|          | 0.00/4.71M [00:00<?, ?B/s]"
      ]
     },
     "metadata": {},
     "output_type": "display_data"
    },
    {
     "data": {
      "application/vnd.jupyter.widget-view+json": {
       "model_id": "a0378db3564a4e0a874fea8c04bc25d0",
       "version_major": 2,
       "version_minor": 0
      },
      "text/plain": [
       "Downloading data:   0%|          | 0.00/2.48M [00:00<?, ?B/s]"
      ]
     },
     "metadata": {},
     "output_type": "display_data"
    },
    {
     "data": {
      "application/vnd.jupyter.widget-view+json": {
       "model_id": "9f763fe18b414e05b2871c2501215f42",
       "version_major": 2,
       "version_minor": 0
      },
      "text/plain": [
       "Generating train split: 0 examples [00:00, ? examples/s]"
      ]
     },
     "metadata": {},
     "output_type": "display_data"
    },
    {
     "data": {
      "application/vnd.jupyter.widget-view+json": {
       "model_id": "39e9f709babf4a2aa4b9ecb7ebdd63f8",
       "version_major": 2,
       "version_minor": 0
      },
      "text/plain": [
       "Generating valid split: 0 examples [00:00, ? examples/s]"
      ]
     },
     "metadata": {},
     "output_type": "display_data"
    },
    {
     "data": {
      "application/vnd.jupyter.widget-view+json": {
       "model_id": "e4bd9b3dcf874f0d8ce36ef39d9d8b2b",
       "version_major": 2,
       "version_minor": 0
      },
      "text/plain": [
       "Generating test split: 0 examples [00:00, ? examples/s]"
      ]
     },
     "metadata": {},
     "output_type": "display_data"
    }
   ],
   "source": [
    "dataset = load_dataset(\"McAuley-Lab/Amazon-Reviews-2023\", \"0core_timestamp_w_his_All_Beauty\", trust_remote_code=True)"
   ]
  },
  {
   "cell_type": "code",
   "execution_count": 6,
   "metadata": {},
   "outputs": [
    {
     "name": "stdout",
     "output_type": "stream",
     "text": [
      "{'user_id': ['AGKHLEW2SOWHNMFQIJGBECAF7INQ', 'AGKHLEW2SOWHNMFQIJGBECAF7INQ', 'AE74DYR3QUGVPZJ3P7RFWBGIX7XQ', 'AFQLNQNQYFWQZPJQZS6V3NZU4QBQ', 'AGMJ3EMDVL6OWBJF7CA5RGJLXN5A'], 'parent_asin': ['B081TJ8YS3', 'B00YQ6X8EO', 'B097R46CSY', 'B08BZ63GMJ', 'B00R8DXL44'], 'rating': ['4.0', '5.0', '5.0', '5.0', '4.0'], 'timestamp': ['1588615855070', '1588687728923', '1589665266052', '1609322563534', '1598567408138'], 'history': ['', 'B081TJ8YS3', '', '', '']}\n",
      "{'user_id': ['AFZUK3MTBIBEDQOPAK3OATUOUKLA', 'AHV6QCNBJNSGLATP56JAWJ3C4G2A', 'AHV6QCNBJNSGLATP56JAWJ3C4G2A', 'AHV6QCNBJNSGLATP56JAWJ3C4G2A', 'AEZ26WGWJ3EOQ4KWSHG77HJAG4EA'], 'parent_asin': ['B0BFR5WF1R', 'B0B4JPGX8P', 'B0B4JP5YD9', 'B0B8DZ7H5F', 'B0B7RBK4NJ'], 'rating': ['1.0', '4.0', '5.0', '4.0', '1.0'], 'timestamp': ['1675826333052', '1660417672640', '1660417831321', '1663163956007', '1662827578220'], 'history': ['B0020MKBNW B082FLP15V B00946HGLW', 'B00N6WHTRG B00NNKWDI6 B00MDKICPK B010B0S67C B00KXFD75M B015ZXMSFQ B00KR4AFJU B01CO73OIQ B00GUTPV4A B01B6V11UY B01KJPFO9W B071R2QPF3 B07GDQPG12 B07KV31WDS B07FZ5HZLM B077YR3333 B07N45YN6C B07J2QZBTP B07NPWK167 B082MTTFZD B07JDD2L3M B07SW7D6ZR B07WNBZQGT B084D86YL8 B082NKQ4ZT B083TLNBJJ B07PRDZ2BH B087D7MVHB B088FBNQXW B085WTCBLG B085NYYLQ8 B08BZ1RHPS B08FRQGYDF B0B2L218H2 B08HXQ3T9K B08KWN77LW B08KYLTK5H B0BTJ6SYKB B07W6H8CGT B08PQ6YXSH B07KQ32Z8C B09KT4RJG6', 'B00N6WHTRG B00NNKWDI6 B00MDKICPK B010B0S67C B00KXFD75M B015ZXMSFQ B00KR4AFJU B01CO73OIQ B00GUTPV4A B01B6V11UY B01KJPFO9W B071R2QPF3 B07GDQPG12 B07KV31WDS B07FZ5HZLM B077YR3333 B07N45YN6C B07J2QZBTP B07NPWK167 B082MTTFZD B07JDD2L3M B07SW7D6ZR B07WNBZQGT B084D86YL8 B082NKQ4ZT B083TLNBJJ B07PRDZ2BH B087D7MVHB B088FBNQXW B085WTCBLG B085NYYLQ8 B08BZ1RHPS B08FRQGYDF B0B2L218H2 B08HXQ3T9K B08KWN77LW B08KYLTK5H B0BTJ6SYKB B07W6H8CGT B08PQ6YXSH B07KQ32Z8C B09KT4RJG6 B0B4JPGX8P', 'B00N6WHTRG B00NNKWDI6 B00MDKICPK B010B0S67C B00KXFD75M B015ZXMSFQ B00KR4AFJU B01CO73OIQ B00GUTPV4A B01B6V11UY B01KJPFO9W B071R2QPF3 B07GDQPG12 B07KV31WDS B07FZ5HZLM B077YR3333 B07N45YN6C B07J2QZBTP B07NPWK167 B082MTTFZD B07JDD2L3M B07SW7D6ZR B07WNBZQGT B084D86YL8 B082NKQ4ZT B083TLNBJJ B07PRDZ2BH B087D7MVHB B088FBNQXW B085WTCBLG B085NYYLQ8 B08BZ1RHPS B08FRQGYDF B0B2L218H2 B08HXQ3T9K B08KWN77LW B08KYLTK5H B0BTJ6SYKB B07W6H8CGT B08PQ6YXSH B07KQ32Z8C B09KT4RJG6 B0B4JPGX8P B0B4JP5YD9', '']}\n",
      "{'user_id': ['AFQLNQNQYFWQZPJQZS6V3NZU4QBQ', 'AHREXOGQPZDA6354MHH4ETSF3MCQ', 'AEYORY2AVPMCPDV57CE337YU5LXA', 'AFETVW7S5M4LVJ7GTWPCKT7S3YBQ', 'AGVVUU3QRQBHNASSGI5YQLPYOI2Q'], 'parent_asin': ['B09JS339BZ', 'B099DRHW5V', 'B08BBQ29N5', 'B01M5KNSQN', 'B09FF97RHL'], 'rating': ['1.0', '5.0', '3.0', '1.0', '1.0'], 'timestamp': ['1643393630220', '1631885519443', '1634275259292', '1649634131604', '1648824907536'], 'history': ['B08BZ63GMJ', '', '', '', '']}\n"
     ]
    }
   ],
   "source": [
    "print(dataset['train'][:5])\n",
    "print(dataset['test'][:5])\n",
    "print(dataset['valid'][:5])"
   ]
  },
  {
   "cell_type": "code",
   "execution_count": 7,
   "metadata": {},
   "outputs": [
    {
     "ename": "ModuleNotFoundError",
     "evalue": "No module named 'ray'",
     "output_type": "error",
     "traceback": [
      "\u001b[0;31m---------------------------------------------------------------------------\u001b[0m",
      "\u001b[0;31mModuleNotFoundError\u001b[0m                       Traceback (most recent call last)",
      "Cell \u001b[0;32mIn[7], line 1\u001b[0m\n\u001b[0;32m----> 1\u001b[0m \u001b[38;5;28;01mfrom\u001b[39;00m \u001b[38;5;21;01mrecbole\u001b[39;00m\u001b[38;5;21;01m.\u001b[39;00m\u001b[38;5;21;01mquick_start\u001b[39;00m \u001b[38;5;28;01mimport\u001b[39;00m run_recbole\n\u001b[1;32m      2\u001b[0m run_recbole()\n",
      "File \u001b[0;32m/opt/homebrew/lib/python3.11/site-packages/recbole/quick_start/__init__.py:1\u001b[0m\n\u001b[0;32m----> 1\u001b[0m \u001b[38;5;28;01mfrom\u001b[39;00m \u001b[38;5;21;01mrecbole\u001b[39;00m\u001b[38;5;21;01m.\u001b[39;00m\u001b[38;5;21;01mquick_start\u001b[39;00m\u001b[38;5;21;01m.\u001b[39;00m\u001b[38;5;21;01mquick_start\u001b[39;00m \u001b[38;5;28;01mimport\u001b[39;00m (\n\u001b[1;32m      2\u001b[0m     run,\n\u001b[1;32m      3\u001b[0m     run_recbole,\n\u001b[1;32m      4\u001b[0m     objective_function,\n\u001b[1;32m      5\u001b[0m     load_data_and_model,\n\u001b[1;32m      6\u001b[0m     run_recboles,\n\u001b[1;32m      7\u001b[0m )\n",
      "File \u001b[0;32m/opt/homebrew/lib/python3.11/site-packages/recbole/quick_start/quick_start.py:20\u001b[0m\n\u001b[1;32m     17\u001b[0m \u001b[38;5;28;01mfrom\u001b[39;00m \u001b[38;5;21;01mcollections\u001b[39;00m\u001b[38;5;21;01m.\u001b[39;00m\u001b[38;5;21;01mabc\u001b[39;00m \u001b[38;5;28;01mimport\u001b[39;00m MutableMapping\n\u001b[1;32m     18\u001b[0m \u001b[38;5;28;01mfrom\u001b[39;00m \u001b[38;5;21;01mlogging\u001b[39;00m \u001b[38;5;28;01mimport\u001b[39;00m getLogger\n\u001b[0;32m---> 20\u001b[0m \u001b[38;5;28;01mfrom\u001b[39;00m \u001b[38;5;21;01mray\u001b[39;00m \u001b[38;5;28;01mimport\u001b[39;00m tune\n\u001b[1;32m     22\u001b[0m \u001b[38;5;28;01mfrom\u001b[39;00m \u001b[38;5;21;01mrecbole\u001b[39;00m\u001b[38;5;21;01m.\u001b[39;00m\u001b[38;5;21;01mconfig\u001b[39;00m \u001b[38;5;28;01mimport\u001b[39;00m Config\n\u001b[1;32m     23\u001b[0m \u001b[38;5;28;01mfrom\u001b[39;00m \u001b[38;5;21;01mrecbole\u001b[39;00m\u001b[38;5;21;01m.\u001b[39;00m\u001b[38;5;21;01mdata\u001b[39;00m \u001b[38;5;28;01mimport\u001b[39;00m (\n\u001b[1;32m     24\u001b[0m     create_dataset,\n\u001b[1;32m     25\u001b[0m     data_preparation,\n\u001b[1;32m     26\u001b[0m )\n",
      "\u001b[0;31mModuleNotFoundError\u001b[0m: No module named 'ray'"
     ]
    }
   ],
   "source": [
    "from recbole.quick_start import run_recbole\n",
    "run_recbole()"
   ]
  },
  {
   "cell_type": "code",
   "execution_count": null,
   "metadata": {},
   "outputs": [],
   "source": []
  }
 ],
 "metadata": {
  "kernelspec": {
   "display_name": "Python 3 (ipykernel)",
   "language": "python",
   "name": "python3"
  },
  "language_info": {
   "codemirror_mode": {
    "name": "ipython",
    "version": 3
   },
   "file_extension": ".py",
   "mimetype": "text/x-python",
   "name": "python",
   "nbconvert_exporter": "python",
   "pygments_lexer": "ipython3",
   "version": "3.11.6"
  }
 },
 "nbformat": 4,
 "nbformat_minor": 2
}
